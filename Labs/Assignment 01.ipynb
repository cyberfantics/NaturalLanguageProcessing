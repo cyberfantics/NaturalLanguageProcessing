{
 "cells": [
  {
   "cell_type": "markdown",
   "id": "2467d594-f76e-46fc-abc9-cdccc0b32fc7",
   "metadata": {},
   "source": [
    "<div style=\"font-family: 'Arial', sans-serif; font-size: 48px; font-weight: bold; text-align: center; color: #ffcc00; background-color: #2a2a2a; padding: 30px; border: 3px solid #444; border-radius: 15px; box-shadow: 0 4px 10px rgba(0, 0, 0, 0.3); margin-bottom: 20px;\">\n",
    "    Natural Language Processing\n",
    "</div>\n",
    "\n",
    "<div style=\"font-family: 'Arial', sans-serif; font-size: 48px; font-weight: bold; text-align: center; color: #ff9900; background-color: #333333; padding: 20px; border: 3px solid #444; border-radius: 15px; box-shadow: 0 4px 10px rgba(0, 0, 0, 0.3); margin-bottom: 20px;\">\n",
    "    Lab 01\n",
    "</div>\n",
    "\n",
    "<div style=\"font-family: 'Arial', sans-serif; font-size: 48px; font-weight: bold; text-align: center; color: #ff6600; background-color: #1c1c1c; padding: 20px; border: 3px solid #444; border-radius: 15px; box-shadow: 0 4px 10px rgba(0, 0, 0, 0.3); margin-bottom: 20px;\">\n",
    "    Syed Mansoor ul Hassan Bukhari\n",
    "</div>\n",
    "\n",
    "<div style=\"font-family: 'Arial', sans-serif; font-size: 48px; font-weight: bold; text-align: center; color: #ffcc00; background-color: #222222; padding: 20px; border: 3px solid #444; border-radius: 15px; box-shadow: 0 4px 10px rgba(0, 0, 0, 0.3); margin-bottom: 20px;\">\n",
    "    BSAI - VII\n",
    "</div>\n",
    "\n",
    "<div style=\"font-family: 'Arial', sans-serif; font-size: 48px; font-weight: bold; text-align: center; color: #ff3300; background-color: #1c1c1c; padding: 20px; border: 3px solid #444; border-radius: 15px; box-shadow: 0 4px 10px rgba(0, 0, 0, 0.3);\">\n",
    "    2021-25\n",
    "</div>\n",
    "\n",
    "<div style=\"font-family: 'Arial', sans-serif; font-size: 48px; font-weight: bold; text-align: center; color: #3399ff; background-color: #1c1c1c; padding: 20px; border: 3px solid #444; border-radius: 15px; box-shadow: 0 4px 10px rgba(0, 0, 0, 0.3);\">\n",
    "    <span style=\"position: relative; top: -10px;\">09</span> Dec, 2024\n",
    "</div>\n"
   ]
  },
  {
   "cell_type": "markdown",
   "id": "29eed6ff-2d84-4a68-a906-5d3f2a27d2ca",
   "metadata": {},
   "source": [
    "<div style=\"font-family: 'Arial', sans-serif; font-size: 20px; text-align: left; color: #000000; background-color: #f4f4f4; padding: 25px; border: 3px solid #555555; border-radius: 15px; box-shadow: 0 6px 15px rgba(0, 0, 0, 0.4); margin-bottom: 25px;\">\r\n",
    "    <br>\r\n",
    "    <strong style=\"color: #003366;\">Assignment Part I: </strong>\r\n",
    "    <span style=\"color: #333333;\">Write a Python program that takes input and preprocesses it. The preprocessing includes the following tasks:</span>\r\n",
    "    <ul style=\"color: #333333;\">\r\n",
    "        <li>1. Data Cleaning: Removal of hashtags, punctuation marks, and numbers using regular expressions.</li>\r\n",
    "        <li>2. Tokenization</li>\r\n",
    "        <li>3. Stemming or Lemmatization</li>\r\n",
    "    </ul>\r\n",
    "    <span style=\"color: #333333;\">Use an NLP pipeline to perform these tasks.</span>\r\n",
    "    <br><r>\r\n",
    "</div>\r\n"
   ]
  },
  {
   "cell_type": "code",
   "execution_count": null,
   "id": "5b11246c-5dd5-4ead-9bf9-de621a559f35",
   "metadata": {},
   "outputs": [],
   "source": []
  }
 ],
 "metadata": {
  "kernelspec": {
   "display_name": "Python 3 (ipykernel)",
   "language": "python",
   "name": "python3"
  },
  "language_info": {
   "codemirror_mode": {
    "name": "ipython",
    "version": 3
   },
   "file_extension": ".py",
   "mimetype": "text/x-python",
   "name": "python",
   "nbconvert_exporter": "python",
   "pygments_lexer": "ipython3",
   "version": "3.12.4"
  }
 },
 "nbformat": 4,
 "nbformat_minor": 5
}
